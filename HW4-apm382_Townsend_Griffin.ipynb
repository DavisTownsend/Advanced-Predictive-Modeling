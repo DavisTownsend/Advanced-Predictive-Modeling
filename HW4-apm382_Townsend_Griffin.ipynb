{
 "cells": [
  {
   "cell_type": "markdown",
   "metadata": {},
   "source": [
    "# <p style=\"text-align: center;\">MIS 382N: Advanced Predictive Modeling</p>\n",
    "# <p style=\"text-align: center;\">Assignment 4</p>\n",
    "## <p style=\"text-align: center;\">Total points: 50 </p>\n",
    "## <p style=\"text-align: center;\">Due: Mon, November 14</p>\n",
    "## <p style=\"text-align: center;\">Team: DavisTownsend & Dallas Griffin\n",
    "\n",
    "\n",
    "\n",
    "Your homework should be written in a **Jupyter notebook**. Please submit **only one** ipynb file from each group, and include the names of all the group members. Also, please make sure your code runs and the graphics (and anything else) are displayed in your notebook before submitting."
   ]
  },
  {
   "cell_type": "markdown",
   "metadata": {},
   "source": [
    "# Problem 1 - MNIST (15 pts)\n",
    "In this question you classify hand-written digits. We want to use MNIST data set and try Multi-layer Perceptron (MLP) classifier using sklearn package in Python. In order to simplify the problem, we classify digits into 8 classes (digits 0,1,2,...7) and ignore records for digits 8 and 9.  Use the code below to access the data set and extract data with labels 0 to 7, and split the data set into train set and test set.\n",
    "\n",
    "1. Fit a Multilayer Perceptron Classifier using the standard options on sklearn's MLP on train data. Report the root MSE for both train and test data. (5 pts)\n",
    "\n",
    "    Use these parameters for your model: \n",
    "                    {hidden_layer_sizes=(50,), max_iter=10, alpha=1e-4,\n",
    "                    solver='sgd', verbose=10, tol=1e-4, random_state=42,\n",
    "                    learning_rate_init=.1}\n",
    "                    \n",
    "2. To find better parameters for the MLP Classifier model, try an exhaustive search over all parameters of the data. Use sklearn's GridSearchCV to find the best subset of parameters from the set:\n",
    "                    { alpha = [0.1,0.01,0.001], activation : ['logistic', 'relu'] }\n",
    "    which parameters resulted in a more accurate model? Can you explain why? (5 pts)\n",
    "\n",
    "3. Select 5 misclassified images and display them. (5 pts)"
   ]
  },
  {
   "cell_type": "code",
   "execution_count": 28,
   "metadata": {
    "collapsed": false
   },
   "outputs": [
    {
     "name": "stdout",
     "output_type": "stream",
     "text": [
      "Populating the interactive namespace from numpy and matplotlib\n"
     ]
    },
    {
     "name": "stderr",
     "output_type": "stream",
     "text": [
      "WARNING: pylab import has clobbered these variables: ['clf']\n",
      "`%matplotlib` prevents importing * from pylab and numpy\n"
     ]
    }
   ],
   "source": [
    "import matplotlib.pyplot as plt\n",
    "from sklearn.datasets import fetch_mldata\n",
    "from sklearn.model_selection import (train_test_split,KFold)\n",
    "from sklearn.neural_network import MLPClassifier\n",
    "from sklearn import metrics\n",
    "from sklearn.grid_search import GridSearchCV\n",
    "\n",
    "%pylab inline\n",
    "\n",
    "import numpy as np\n",
    "import seaborn as sns\n",
    "\n",
    "mnist = fetch_mldata(\"MNIST original\")\n",
    "# rescale the data, use the traditional train/test split\n",
    "X = (mnist.data / 255.)[:48200]\n",
    "y = mnist.target[:48200]\n",
    "\n",
    "X_train, X_test, y_train, y_test = train_test_split(X,y,test_size = 0.1, random_state=42)"
   ]
  },
  {
   "cell_type": "markdown",
   "metadata": {},
   "source": [
    "### Part 1 - Fit a MLP"
   ]
  },
  {
   "cell_type": "code",
   "execution_count": 29,
   "metadata": {
    "collapsed": false
   },
   "outputs": [
    {
     "name": "stdout",
     "output_type": "stream",
     "text": [
      "Iteration 1, loss = 0.24522635\n",
      "Iteration 2, loss = 0.10589741\n",
      "Iteration 3, loss = 0.07488529\n",
      "Iteration 4, loss = 0.05895084\n",
      "Iteration 5, loss = 0.04782934\n",
      "Iteration 6, loss = 0.03945315\n",
      "Iteration 7, loss = 0.03320940\n",
      "Iteration 8, loss = 0.02872414\n",
      "Iteration 9, loss = 0.02451143\n",
      "Iteration 10, loss = 0.02132893\n"
     ]
    }
   ],
   "source": [
    "MLP = MLPClassifier(hidden_layer_sizes=(50, ), max_iter=10, alpha=.0001, \n",
    "                    solver='sgd', verbose=10, tol=.0001, random_state=42, learning_rate_init=.1)\n",
    "\n",
    "#Fit model & predict y\n",
    "MLP.fit(X_train, y_train)\n",
    "pred_y_train = MLP.predict(X_train)\n",
    "pred_y_test = MLP.predict(X_test)"
   ]
  },
  {
   "cell_type": "code",
   "execution_count": 30,
   "metadata": {
    "collapsed": false
   },
   "outputs": [
    {
     "name": "stdout",
     "output_type": "stream",
     "text": [
      "\n",
      "Precision:0.99563632295\n",
      "Recall: 0.995620101429\n",
      "Accuracy: 0.995620101429\n"
     ]
    },
    {
     "data": {
      "text/plain": [
       "<matplotlib.text.Text at 0x16696898>"
      ]
     },
     "execution_count": 30,
     "metadata": {},
     "output_type": "execute_result"
    },
    {
     "data": {
      "image/png": "[encoded data removed]",
      "text/plain": [
       "<matplotlib.figure.Figure at 0x16465400>"
      ]
     },
     "metadata": {},
     "output_type": "display_data"
    }
   ],
   "source": [
    "#Model accuracy - training data\n",
    "print\n",
    "print 'Precision:' + str(metrics.precision_score(y_train, pred_y_train, average = 'weighted', pos_label='high'))\n",
    "print 'Recall: ' + str(metrics.recall_score(y_train, pred_y_train, average = 'weighted', pos_label='high'))\n",
    "print 'Accuracy: ' + str(metrics.accuracy_score(y_train, pred_y_train))\n",
    "\n",
    "# Fancy boy confusion matrix - training data\n",
    "mat = metrics.confusion_matrix(y_train, pred_y_train)\n",
    "sns.heatmap(mat.T, square=True, annot=True, fmt='d', cbar=True)\n",
    "plt.xlabel('Actual Number')\n",
    "plt.ylabel('Predicted Number')\n",
    "plt.title('MLP - Training Performance')"
   ]
  },
  {
   "cell_type": "code",
   "execution_count": 31,
   "metadata": {
    "collapsed": false
   },
   "outputs": [
    {
     "name": "stdout",
     "output_type": "stream",
     "text": [
      "Precision:0.980387484364\n",
      "Recall: 0.980290456432\n",
      "Accuracy: 0.980290456432\n"
     ]
    },
    {
     "data": {
      "text/plain": [
       "<matplotlib.text.Text at 0x16fa3908>"
      ]
     },
     "execution_count": 31,
     "metadata": {},
     "output_type": "execute_result"
    },
    {
     "data": {
      "image/png": "[encoded data removed]",
      "text/plain": [
       "<matplotlib.figure.Figure at 0x164652b0>"
      ]
     },
     "metadata": {},
     "output_type": "display_data"
    }
   ],
   "source": [
    "#Model accuracy - training data\n",
    "print 'Precision:' + str(metrics.precision_score(y_test, pred_y_test, average = 'weighted', pos_label='high'))\n",
    "print 'Recall: ' + str(metrics.recall_score(y_test, pred_y_test, average = 'weighted', pos_label='high'))\n",
    "print 'Accuracy: ' + str(metrics.accuracy_score(y_test, pred_y_test))\n",
    "\n",
    "# Fancy boy confusion matrix - training data\n",
    "mat = metrics.confusion_matrix(y_test, pred_y_test)\n",
    "sns.heatmap(mat.T, square=True, annot=True, fmt='d', cbar=True)\n",
    "plt.xlabel('Actual Number')\n",
    "plt.ylabel('Predicted Number')\n",
    "plt.title('MLP - Test Performance')"
   ]
  },
  {
   "cell_type": "markdown",
   "metadata": {},
   "source": [
    "### Part 2 - Optimize MLP Parameters"
   ]
  },
  {
   "cell_type": "code",
   "execution_count": 33,
   "metadata": {
    "collapsed": false
   },
   "outputs": [
    {
     "name": "stdout",
     "output_type": "stream",
     "text": [
      "Iteration 1, loss = 0.63780467\n",
      "Iteration 2, loss = 0.26993412\n",
      "Iteration 3, loss = 0.24531053\n",
      "Iteration 4, loss = 0.23249797\n",
      "Iteration 5, loss = 0.22329679\n",
      "Iteration 6, loss = 0.21626242\n",
      "Iteration 7, loss = 0.21060256\n",
      "Iteration 8, loss = 0.20636226\n",
      "Iteration 9, loss = 0.20275525\n",
      "Iteration 10, loss = 0.19956171\n",
      "Iteration 1, loss = 0.63829233\n",
      "Iteration 2, loss = 0.27025643\n",
      "Iteration 3, loss = 0.24654183\n",
      "Iteration 4, loss = 0.23410992\n",
      "Iteration 5, loss = 0.22552123\n",
      "Iteration 6, loss = 0.21804481\n",
      "Iteration 7, loss = 0.21292405\n",
      "Iteration 8, loss = 0.20858724\n",
      "Iteration 9, loss = 0.20470124\n",
      "Iteration 10, loss = 0.20241500\n",
      "Iteration 1, loss = 0.63081829\n",
      "Iteration 2, loss = 0.26626237\n",
      "Iteration 3, loss = 0.24312374\n",
      "Iteration 4, loss = 0.22986850\n",
      "Iteration 5, loss = 0.22091677\n",
      "Iteration 6, loss = 0.21371822\n",
      "Iteration 7, loss = 0.20887361\n",
      "Iteration 8, loss = 0.20509427\n",
      "Iteration 9, loss = 0.20130855\n",
      "Iteration 10, loss = 0.19839854\n",
      "Iteration 1, loss = 0.60657526\n",
      "Iteration 2, loss = 0.22005063\n",
      "Iteration 3, loss = 0.18682238\n",
      "Iteration 4, loss = 0.16716691\n",
      "Iteration 5, loss = 0.15196110\n",
      "Iteration 6, loss = 0.13962892\n",
      "Iteration 7, loss = 0.12912051\n",
      "Iteration 8, loss = 0.12056776\n",
      "Iteration 9, loss = 0.11294147\n",
      "Iteration 10, loss = 0.10638375\n",
      "Iteration 1, loss = 0.60690770\n",
      "Iteration 2, loss = 0.22004360\n",
      "Iteration 3, loss = 0.18788125\n",
      "Iteration 4, loss = 0.16889224\n",
      "Iteration 5, loss = 0.15457528\n",
      "Iteration 6, loss = 0.14202926\n",
      "Iteration 7, loss = 0.13243389\n",
      "Iteration 8, loss = 0.12403781\n",
      "Iteration 9, loss = 0.11650343\n",
      "Iteration 10, loss = 0.11071412\n",
      "Iteration 1, loss = 0.59941831\n",
      "Iteration 2, loss = 0.21620908\n",
      "Iteration 3, loss = 0.18488508\n",
      "Iteration 4, loss = 0.16496688\n",
      "Iteration 5, loss = 0.15008771\n",
      "Iteration 6, loss = 0.13782905\n",
      "Iteration 7, loss = 0.12843622\n",
      "Iteration 8, loss = 0.12048553\n",
      "Iteration 9, loss = 0.11278761\n",
      "Iteration 10, loss = 0.10651958\n",
      "Iteration 1, loss = 0.60334773\n",
      "Iteration 2, loss = 0.21464833\n",
      "Iteration 3, loss = 0.18020430\n",
      "Iteration 4, loss = 0.15948147\n",
      "Iteration 5, loss = 0.14328362\n",
      "Iteration 6, loss = 0.13001486\n",
      "Iteration 7, loss = 0.11860901\n",
      "Iteration 8, loss = 0.10920139\n",
      "Iteration 9, loss = 0.10075090\n",
      "Iteration 10, loss = 0.09343127\n",
      "Iteration 1, loss = 0.60366405\n",
      "Iteration 2, loss = 0.21460377\n",
      "Iteration 3, loss = 0.18124167\n",
      "Iteration 4, loss = 0.16122386\n",
      "Iteration 5, loss = 0.14594845\n",
      "Iteration 6, loss = 0.13250119\n",
      "Iteration 7, loss = 0.12205182\n",
      "Iteration 8, loss = 0.11283304\n",
      "Iteration 9, loss = 0.10451663\n",
      "Iteration 10, loss = 0.09794638\n",
      "Iteration 1, loss = 0.59617305\n",
      "Iteration 2, loss = 0.21078484\n",
      "Iteration 3, loss = 0.17828764\n",
      "Iteration 4, loss = 0.15732605\n",
      "Iteration 5, loss = 0.14145815\n",
      "Iteration 6, loss = 0.12829625\n",
      "Iteration 7, loss = 0.11803868\n",
      "Iteration 8, loss = 0.10926194\n",
      "Iteration 9, loss = 0.10074601\n",
      "Iteration 10, loss = 0.09373623\n",
      "Iteration 1, loss = 0.32769650\n",
      "Iteration 2, loss = 0.16996961\n",
      "Iteration 3, loss = 0.13890580\n",
      "Iteration 4, loss = 0.12263480\n",
      "Iteration 5, loss = 0.11061077\n",
      "Iteration 6, loss = 0.10305921\n",
      "Iteration 7, loss = 0.09770082\n",
      "Iteration 8, loss = 0.09333071\n",
      "Iteration 9, loss = 0.08909739\n",
      "Iteration 10, loss = 0.08707868\n",
      "Iteration 1, loss = 0.33041193\n",
      "Iteration 2, loss = 0.17399560\n",
      "Iteration 3, loss = 0.14429026\n",
      "Iteration 4, loss = 0.12604185\n",
      "Iteration 5, loss = 0.11450893\n",
      "Iteration 6, loss = 0.10691431\n",
      "Iteration 7, loss = 0.09997780\n",
      "Iteration 8, loss = 0.09515561\n",
      "Iteration 9, loss = 0.09154212\n",
      "Iteration 10, loss = 0.08872786\n",
      "Iteration 1, loss = 0.32565014\n",
      "Iteration 2, loss = 0.17308850\n",
      "Iteration 3, loss = 0.13977370\n",
      "Iteration 4, loss = 0.12101251\n",
      "Iteration 5, loss = 0.11011633\n",
      "Iteration 6, loss = 0.10172117\n",
      "Iteration 7, loss = 0.09610960\n",
      "Iteration 8, loss = 0.09152365\n",
      "Iteration 9, loss = 0.08826406\n",
      "Iteration 10, loss = 0.08494918\n",
      "Iteration 1, loss = 0.29506389\n",
      "Iteration 2, loss = 0.13183500\n",
      "Iteration 3, loss = 0.09719699\n",
      "Iteration 4, loss = 0.07892097\n",
      "Iteration 5, loss = 0.06479694\n",
      "Iteration 6, loss = 0.05513066\n",
      "Iteration 7, loss = 0.04824435\n",
      "Iteration 8, loss = 0.04313394\n",
      "Iteration 9, loss = 0.03800487\n",
      "Iteration 10, loss = 0.03420222\n",
      "Iteration 1, loss = 0.29803052\n",
      "Iteration 2, loss = 0.13659130\n",
      "Iteration 3, loss = 0.10373084\n",
      "Iteration 4, loss = 0.08280233\n",
      "Iteration 5, loss = 0.06962321\n",
      "Iteration 6, loss = 0.05968517\n",
      "Iteration 7, loss = 0.05172204\n",
      "Iteration 8, loss = 0.04527722\n",
      "Iteration 9, loss = 0.04006127\n",
      "Iteration 10, loss = 0.03624973\n",
      "Iteration 1, loss = 0.29314425\n",
      "Iteration 2, loss = 0.13566467\n",
      "Iteration 3, loss = 0.09934579\n",
      "Iteration 4, loss = 0.07841785\n",
      "Iteration 5, loss = 0.06605170\n",
      "Iteration 6, loss = 0.05505128\n",
      "Iteration 7, loss = 0.04789957\n",
      "Iteration 8, loss = 0.04135617\n",
      "Iteration 9, loss = 0.03697052\n",
      "Iteration 10, loss = 0.03309285\n",
      "Iteration 1, loss = 0.29155400\n",
      "Iteration 2, loss = 0.12737423\n",
      "Iteration 3, loss = 0.09213668\n",
      "Iteration 4, loss = 0.07330185\n",
      "Iteration 5, loss = 0.05840143\n",
      "Iteration 6, loss = 0.04824502\n",
      "Iteration 7, loss = 0.04122594\n",
      "Iteration 8, loss = 0.03527789\n",
      "Iteration 9, loss = 0.02975104\n",
      "Iteration 10, loss = 0.02537422\n",
      "Iteration 1, loss = 0.29462037\n",
      "Iteration 2, loss = 0.13244832\n",
      "Iteration 3, loss = 0.09886417\n",
      "Iteration 4, loss = 0.07707905\n",
      "Iteration 5, loss = 0.06322731\n",
      "Iteration 6, loss = 0.05288853\n",
      "Iteration 7, loss = 0.04449314\n",
      "Iteration 8, loss = 0.03735601\n",
      "Iteration 9, loss = 0.03142793\n",
      "Iteration 10, loss = 0.02733370\n",
      "Iteration 1, loss = 0.28980615\n",
      "Iteration 2, loss = 0.13125853\n",
      "Iteration 3, loss = 0.09404097\n",
      "Iteration 4, loss = 0.07291184\n",
      "Iteration 5, loss = 0.05977777\n",
      "Iteration 6, loss = 0.04829043\n",
      "Iteration 7, loss = 0.04096340\n",
      "Iteration 8, loss = 0.03387250\n",
      "Iteration 9, loss = 0.02931666\n",
      "Iteration 10, loss = 0.02473635\n",
      "Iteration 1, loss = 0.24919265\n",
      "Iteration 2, loss = 0.11119727\n",
      "Iteration 3, loss = 0.08101890\n",
      "Iteration 4, loss = 0.06582402\n",
      "Iteration 5, loss = 0.05551116\n",
      "Iteration 6, loss = 0.04768295\n",
      "Iteration 7, loss = 0.04212951\n",
      "Iteration 8, loss = 0.03863674\n",
      "Iteration 9, loss = 0.03435591\n",
      "Iteration 10, loss = 0.03156028\n"
     ]
    },
    {
     "data": {
      "text/plain": [
       "GridSearchCV(cv=None, error_score='raise',\n",
       "       estimator=MLPClassifier(activation='relu', alpha=0.0001, batch_size='auto', beta_1=0.9,\n",
       "       beta_2=0.999, early_stopping=False, epsilon=1e-08,\n",
       "       hidden_layer_sizes=(50,), learning_rate='constant',\n",
       "       learning_rate_init=0.1, max_iter=10, momentum=0.9,\n",
       "       nesterovs_momentum=True, power_t=0.5, random_state=42, shuffle=True,\n",
       "       solver='sgd', tol=0.0001, validation_fraction=0.1, verbose=10,\n",
       "       warm_start=False),\n",
       "       fit_params={}, iid=True, n_jobs=1,\n",
       "       param_grid={'alpha': [0.1, 0.01, 0.001], 'activation': ['logistic', 'relu'], 'random_state': [42]},\n",
       "       pre_dispatch='2*n_jobs', refit=True, scoring=None, verbose=0)"
      ]
     },
     "execution_count": 33,
     "metadata": {},
     "output_type": "execute_result"
    }
   ],
   "source": [
    "param_grid = { 'alpha' : [0.1,0.01,0.001], 'activation' : ['logistic', 'relu'], 'random_state':[42]}\n",
    "\n",
    "#cross validate\n",
    "clf = GridSearchCV(MLP, param_grid)\n",
    "clf.fit(X_train,y_train)"
   ]
  },
  {
   "cell_type": "code",
   "execution_count": 34,
   "metadata": {
    "collapsed": false
   },
   "outputs": [
    {
     "name": "stdout",
     "output_type": "stream",
     "text": [
      "Best parameters:{'alpha': 0.01, 'activation': 'relu', 'random_state': 42}\n",
      "Best score:0.976947902259\n"
     ]
    }
   ],
   "source": [
    "print \"{}:{}\".format(\"Best parameters\", clf.best_params_)\n",
    "print \"{}{}\".format(\"Best score:\",clf.best_score_)"
   ]
  },
  {
   "cell_type": "markdown",
   "metadata": {
    "collapsed": false
   },
   "source": [
    "#### Conclusion:\n",
    "Though the \"optimal\" parameters identified still performed worse then the parameters provided in Part 1 (likely due to differences in other parameters like SGD v Adam as solver), the specific parameters that performed the best do make some intuitive since. A modest L2 regularization penalty of .01 seems to best optimize the variance-bias trade-off. The Recified Linear Unit Function (relu) as the activation function also performed better then a logistic sigmoid activation function (logistic). This could be because the sigmoid function saturates quicker (i.e. there is a comparatively narrow interval of inputs for which the sigmoid's derivative is sufficiently nonzero) then the RELU function, preventing it from learning long enough to capture the more subtle differences between the hand-written numbers. RELU functions are also better suited for supervised neural nets, while logistic functions have a tendency to get stuck in local maxima."
   ]
  },
  {
   "cell_type": "markdown",
   "metadata": {},
   "source": [
    "### Part 3 - Display Misclassifications"
   ]
  },
  {
   "cell_type": "code",
   "execution_count": 36,
   "metadata": {
    "collapsed": false
   },
   "outputs": [
    {
     "name": "stdout",
     "output_type": "stream",
     "text": [
      "Sample Missclassifications:\n"
     ]
    },
    {
     "data": {
      "image/png": "[encoded data removed]",
      "text/plain": [
       "<matplotlib.figure.Figure at 0xcf5dda0>"
      ]
     },
     "metadata": {},
     "output_type": "display_data"
    }
   ],
   "source": [
    "#NOTE - We used the parameters from Part 1 to investigate misclassified digits as they performed better then Part 2 Parameters.\n",
    "\n",
    "misclass_idx = np.where(y_test != pred_y_test)\n",
    "\n",
    "misclass_act = y_test[misclass_idx]\n",
    "misclass_pred = pred_y_test[misclass_idx]\n",
    "misclass_img = X_test[misclass_idx]*255\n",
    "misclass_img = misclass_img.astype(int)\n",
    "\n",
    "misclass_list = zip(misclass_act,misclass_pred,misclass_img)\n",
    "\n",
    "print \"Sample Missclassifications:\"\n",
    "for index, missclass in enumerate(misclass_list[:9]):\n",
    "    plt.subplot(3, 3, index+1)\n",
    "    plt.axis('off')\n",
    "    plt.imshow(missclass[2].reshape((28,28)), cmap=plt.cm.gray_r, interpolation='nearest')\n",
    "    plt.title('Act: %i | Pred: %i' % (missclass[0], missclass[1]))\n",
    "    \n",
    "plt.show()"
   ]
  },
  {
   "cell_type": "markdown",
   "metadata": {
    "collapsed": true
   },
   "source": [
    "# Question 2: Regression Trees (10 points)\n",
    "\n",
    "In this question, we will be exploring the application of regression tree (RT) using sklearn package in Python. You will be using the same Hitters.csv dataset (available on Canvas) used in HW2 Q5 to predict a baseball player’s Salary using all the 16 performance variables. Use a random state of 42 and a test size of 1/3 to split the data into training and test.\n",
    "\n",
    "1. Build a regression using [DecisionTreeRegressor](http://scikit-learn.org/stable/modules/generated/sklearn.tree.DecisionTreeRegressor.html) with max_depth = 5. Report the mean squared errors on both training and test datasets. (4)\n",
    "2. Repeat Part-1 with max_depth = 2. (4)\n",
    "3. Briefly explain what you observe from these MSE values obtained by using maximum tree depths 5 and 2? Which tree is better and why? (2)"
   ]
  },
  {
   "cell_type": "code",
   "execution_count": 11,
   "metadata": {
    "collapsed": false
   },
   "outputs": [
    {
     "name": "stdout",
     "output_type": "stream",
     "text": [
      "Populating the interactive namespace from numpy and matplotlib\n"
     ]
    },
    {
     "name": "stderr",
     "output_type": "stream",
     "text": [
      "WARNING: pylab import has clobbered these variables: ['mat', 'clf']\n",
      "`%matplotlib` prevents importing * from pylab and numpy\n"
     ]
    }
   ],
   "source": [
    "import numpy as np\n",
    "import matplotlib.pyplot as plt\n",
    "import sklearn\n",
    "from sklearn.cross_validation import train_test_split\n",
    "from sklearn import datasets\n",
    "import pandas as pd\n",
    "from sklearn.tree import DecisionTreeRegressor\n",
    "from sklearn.metrics import mean_squared_error\n",
    "%pylab inline"
   ]
  },
  {
   "cell_type": "code",
   "execution_count": 13,
   "metadata": {
    "collapsed": false
   },
   "outputs": [],
   "source": [
    "hitters = pd.read_csv(\"hitters.csv\")\n",
    "hitters_target = hitters['Salary']\n",
    "hitters_data = hitters\n",
    "del hitters_data['Salary']"
   ]
  },
  {
   "cell_type": "code",
   "execution_count": 14,
   "metadata": {
    "collapsed": true
   },
   "outputs": [],
   "source": [
    "x_train, x_test, y_train, y_test = train_test_split(hitters_data, hitters_target, test_size=0.333, random_state=42)"
   ]
  },
  {
   "cell_type": "markdown",
   "metadata": {},
   "source": [
    "## Part 1"
   ]
  },
  {
   "cell_type": "code",
   "execution_count": 15,
   "metadata": {
    "collapsed": false
   },
   "outputs": [
    {
     "name": "stdout",
     "output_type": "stream",
     "text": [
      "training data MSE: 18749.4789728\n",
      "training data RMSE: 136.928736841\n",
      "test data MSE: 225103.898055\n",
      "test data RMSE: 474.451154551\n"
     ]
    }
   ],
   "source": [
    "DTR = DecisionTreeRegressor(max_depth=5)\n",
    "model = DTR.fit(x_train, y_train)\n",
    "#training data\n",
    "pred_y_train = model.predict(x_train)\n",
    "train_MSE = mean_squared_error(y_train, pred_y_train)\n",
    "train_RMSE = np.sqrt(train_MSE)\n",
    "print \"training data MSE:\", train_MSE\n",
    "print \"training data RMSE:\", train_RMSE\n",
    "#test data\n",
    "pred_y_test = model.predict(x_test)\n",
    "test_MSE = mean_squared_error(y_test, pred_y_test)\n",
    "test_RMSE = np.sqrt(test_MSE)\n",
    "print \"test data MSE:\", test_MSE\n",
    "print \"test data RMSE:\", test_RMSE\n"
   ]
  },
  {
   "cell_type": "markdown",
   "metadata": {},
   "source": [
    "## Part 2"
   ]
  },
  {
   "cell_type": "markdown",
   "metadata": {},
   "source": [
    "We see that the errors on the both the training and test data have gone down"
   ]
  },
  {
   "cell_type": "code",
   "execution_count": 16,
   "metadata": {
    "collapsed": false
   },
   "outputs": [
    {
     "name": "stdout",
     "output_type": "stream",
     "text": [
      "training data MSE: 69909.5877084\n",
      "training data RMSE: 264.404212728\n",
      "test data MSE: 166165.705731\n",
      "test data RMSE: 407.634279387\n"
     ]
    }
   ],
   "source": [
    "DTR = DecisionTreeRegressor(max_depth=2)\n",
    "model = DTR.fit(x_train, y_train)\n",
    "#training data\n",
    "pred_y_train = model.predict(x_train)\n",
    "train_MSE = mean_squared_error(y_train, pred_y_train)\n",
    "train_RMSE = np.sqrt(train_MSE)\n",
    "print \"training data MSE:\", train_MSE\n",
    "print \"training data RMSE:\", train_RMSE\n",
    "#test data\n",
    "pred_y_test = model.predict(x_test)\n",
    "test_MSE = mean_squared_error(y_test, pred_y_test)\n",
    "test_RMSE = np.sqrt(test_MSE)\n",
    "print \"test data MSE:\", test_MSE\n",
    "print \"test data RMSE:\", test_RMSE"
   ]
  },
  {
   "cell_type": "markdown",
   "metadata": {},
   "source": [
    "## Part 3\n",
    "\n",
    "The second tree with the max depth of 5 is better but it is possible that it's overfitting"
   ]
  },
  {
   "cell_type": "markdown",
   "metadata": {
    "collapsed": true
   },
   "source": [
    "# Question 3 - Support Vector Regression vs. Linear Regression (10pts)\n",
    "Download datasets 'summer_gpa_test.csv' and 'summer_gpa_train.csv' from Canvas. With this toy dataset, we want to predict GPA in Summer 2016 for students using 5 different features. So, target variable will be 'GPA_summer2016' in this problem.\n",
    "\n",
    "1. Fit a support vector regression using the default options on [sklearn's SVR](http://scikit-learn.org/stable/modules/generated/sklearn.svm.SVR.html) on training data. Note that the default kernel is \"rbf\".  Report the root MSE for both train and test data. (2)\n",
    "\n",
    "2. Fit SVR with 'linear' kernel and Linear Regression (for other options, use default parameter settings). Report RMSE of prediction on train and test data for the two methods. (3)\n",
    "\n",
    "3. Now, compare the results of three different methods, then provide a possible reason for SVR with RBF kernel not working well on test set. (1)\n",
    "\n",
    "4.  Provide simple residual plots on Train and Test set for all three methods. Specifically, submit a scatter plot wherein y-axis shows the residuals and x-axis the predicted values. What can you learn about the effect of outliers on different models from this problem? (4)"
   ]
  },
  {
   "cell_type": "code",
   "execution_count": 18,
   "metadata": {
    "collapsed": false
   },
   "outputs": [],
   "source": [
    "import pandas as pd\n",
    "import numpy as np\n",
    "from sklearn.svm import SVR\n",
    "from sklearn.metrics import mean_squared_error\n",
    "from sklearn.linear_model import LinearRegression\n",
    "\n",
    "d_train = pd.read_csv('summer_gpa_train.csv',index_col='student')\n",
    "d_test = pd.read_csv('summer_gpa_test.csv',index_col='student')\n",
    "\n",
    "y_train = d_train['GPA_summer2016']\n",
    "y_test = d_test['GPA_summer2016']\n",
    "x_train = d_train.drop('GPA_summer2016',axis=1)\n",
    "x_test = d_test.drop('GPA_summer2016',axis=1)\n",
    "svr = SVR()"
   ]
  },
  {
   "cell_type": "markdown",
   "metadata": {},
   "source": [
    "## Part 1\n",
    "RBF Kernel"
   ]
  },
  {
   "cell_type": "code",
   "execution_count": 19,
   "metadata": {
    "collapsed": false
   },
   "outputs": [
    {
     "name": "stdout",
     "output_type": "stream",
     "text": [
      "training data RMSE: 0.174703118961\n",
      "test data RMSE: 0.549667753896\n"
     ]
    }
   ],
   "source": [
    "model = svr.fit(x_train, y_train)\n",
    "#training data\n",
    "pred_y_train = model.predict(x_train)\n",
    "train_MSE = mean_squared_error(y_train, pred_y_train)\n",
    "train_RMSE = np.sqrt(train_MSE)\n",
    "print \"training data RMSE:\", train_RMSE\n",
    "#test data\n",
    "pred_y_test = model.predict(x_test)\n",
    "test_MSE = mean_squared_error(y_test, pred_y_test)\n",
    "test_RMSE = np.sqrt(test_MSE)\n",
    "print \"test data RMSE:\", test_RMSE"
   ]
  },
  {
   "cell_type": "markdown",
   "metadata": {},
   "source": [
    "## Part 2\n",
    "Linear Kernel"
   ]
  },
  {
   "cell_type": "code",
   "execution_count": 20,
   "metadata": {
    "collapsed": false
   },
   "outputs": [
    {
     "name": "stdout",
     "output_type": "stream",
     "text": [
      "training data RMSE: 0.477967720085\n",
      "test data RMSE: 0.231968041522\n"
     ]
    }
   ],
   "source": [
    "svr = SVR(kernel='linear')\n",
    "model = svr.fit(x_train, y_train)\n",
    "#training data\n",
    "pred_y_train = model.predict(x_train)\n",
    "train_MSE = mean_squared_error(y_train, pred_y_train)\n",
    "train_RMSE = np.sqrt(train_MSE)\n",
    "print \"training data RMSE:\", train_RMSE\n",
    "#test data\n",
    "pred_y_test = model.predict(x_test)\n",
    "test_MSE = mean_squared_error(y_test, pred_y_test)\n",
    "test_RMSE = np.sqrt(test_MSE)\n",
    "print \"test data RMSE:\", test_RMSE"
   ]
  },
  {
   "cell_type": "markdown",
   "metadata": {},
   "source": [
    "Linear Regression"
   ]
  },
  {
   "cell_type": "code",
   "execution_count": 21,
   "metadata": {
    "collapsed": false
   },
   "outputs": [
    {
     "name": "stdout",
     "output_type": "stream",
     "text": [
      "training data RMSE: 0.458060629343\n",
      "test data RMSE: 0.260057137391\n"
     ]
    }
   ],
   "source": [
    "LR = LinearRegression()\n",
    "model = LR.fit(x_train, y_train)\n",
    "#training data\n",
    "pred_y_train = model.predict(x_train)\n",
    "train_MSE = mean_squared_error(y_train, pred_y_train)\n",
    "train_RMSE = np.sqrt(train_MSE)\n",
    "print \"training data RMSE:\", train_RMSE\n",
    "#test data\n",
    "pred_y_test = model.predict(x_test)\n",
    "test_MSE = mean_squared_error(y_test, pred_y_test)\n",
    "test_RMSE = np.sqrt(test_MSE)\n",
    "print \"test data RMSE:\", test_RMSE"
   ]
  },
  {
   "cell_type": "markdown",
   "metadata": {},
   "source": [
    "## Part 3"
   ]
  },
  {
   "cell_type": "code",
   "execution_count": 22,
   "metadata": {
    "collapsed": false
   },
   "outputs": [
    {
     "name": "stdout",
     "output_type": "stream",
     "text": [
      "RBF test RMSE:0.549667753896\n",
      "Linear test RMSE:0.231968041522\n",
      "Linear Regression test RMSE:0.260057137391\n"
     ]
    }
   ],
   "source": [
    "svr_rbf = SVR(kernel='rbf')\n",
    "svr_lin = SVR(kernel='linear')\n",
    "LinReg = LinearRegression()\n",
    "y_rbf = svr_rbf.fit(x_train, y_train).predict(x_test)\n",
    "y_lin = svr_lin.fit(x_train, y_train).predict(x_test)\n",
    "y_LinReg = LinReg.fit(x_train, y_train).predict(x_test)\n",
    "rbf_test_mse = mean_squared_error(y_test, y_rbf)\n",
    "lin_test_mse = mean_squared_error(y_test, y_lin)\n",
    "LinReg_test_mse = mean_squared_error(y_test, y_LinReg)\n",
    "rbf_test_rmse = np.sqrt(rbf_test_mse)\n",
    "lin_test_rmse = np.sqrt(lin_test_mse)\n",
    "LinReg_test_rmse = np.sqrt(LinReg_test_mse)\n",
    "print 'RBF test RMSE:{}'.format(rbf_test_rmse)\n",
    "print 'Linear test RMSE:{}'.format(lin_test_rmse)\n",
    "print 'Linear Regression test RMSE:{}'.format(LinReg_test_rmse)"
   ]
  },
  {
   "cell_type": "markdown",
   "metadata": {},
   "source": [
    "## Part 4"
   ]
  },
  {
   "cell_type": "code",
   "execution_count": 23,
   "metadata": {
    "collapsed": false
   },
   "outputs": [
    {
     "data": {
      "image/png": "[encoded data removed]",
      "text/plain": [
       "<matplotlib.figure.Figure at 0x16fd8160>"
      ]
     },
     "metadata": {},
     "output_type": "display_data"
    }
   ],
   "source": [
    "resid_rbf = y_rbf - y_test\n",
    "resid_lin = y_lin - y_test\n",
    "resid_linreg = y_LinReg - y_test\n",
    "\n",
    "plt.figure()\n",
    "plt.scatter(y_rbf, resid_rbf, color='blue', label='SVR rbf')\n",
    "plt.scatter(y_lin, resid_lin, color='red', label='SVR linear')\n",
    "plt.scatter(y_LinReg, resid_linreg, color='yellow', label = 'LinReg')\n",
    "plt.xlabel('predicted values')\n",
    "plt.ylabel('residuals')\n",
    "plt.title('predicted v residual distributions of SVR models')\n",
    "plt.legend()\n",
    "plt.show()"
   ]
  },
  {
   "cell_type": "markdown",
   "metadata": {},
   "source": [
    "We can see from this plot that RBF seems to be the least robust to outliers as its residuals are the most stretched out vertically, meaning RBf makes worse errors on outliers"
   ]
  },
  {
   "cell_type": "markdown",
   "metadata": {},
   "source": [
    "# Question 4: Bayesian Networks (10 pts)\n",
    "#### Part (a) (5 points)\n",
    "Consider the following Bayesian network of binary (True/False) variables.\n",
    "\n",
    "<img src=\"hw4q4pic1.png\">\n",
    "\n",
    "This is equivalent to saying that X and Y are conditionally independent given C, or P(X,Y|C) = P(X|C)P(Y|C). This happens to be the assumption used by the Naive Bayes classifier.\n",
    "\n",
    "The exact probabilities are given:  \n",
    "P(X = True | C = True) = .75  \n",
    "P(X = True | C = False) = .5  \n",
    "P(Y = True | C = True) = .25  \n",
    "P(Y = True | C = False) = .5  \n",
    "P(C = True) = .5\n",
    "\n",
    "Find P(C = True | X = True, Y = True). The easiest method is to use Bayes rule, along with the conditional independence equation given above.\n",
    "\n",
    "#### (b) (5 points)\n",
    "A new feature Z is added, and based on prior knowledge, we believe that one of the two networks given below properly captures the dependencies among the variables. Our goal is to determine P(C|X,Y,Z). For each of these two different networks:\n",
    "\n",
    "<img src=\"hw4q4pic2.png\">\n",
    "\n",
    "will P(C|X,Y,Z) be the same as P(C|X,Y) (the inference from part a)? Or will it be different? Give a separate answer for each network."
   ]
  },
  {
   "cell_type": "markdown",
   "metadata": {},
   "source": [
    "### Part A\n",
    "By Baye's Rule we have:  \n",
    "$P(C=T|X=T,Y=T) = \\frac{P(X=T,Y=T | C=T)* P(C=T)}{P(X=T,Y=T)} $\n",
    "\n",
    "By the conditional indepedence equation we have:  \n",
    "$P(C=T|X=T,Y=T) = \\frac{P(X=T|C=T) * P(Y=T|C=T) * P(C=T)}{P(X=T,Y=T)} $\n",
    "\n",
    "Next, use law of total probability to calculate joint distribution of P(X=T, Y=T):\n",
    "$P(X=T,Y=T) = P(C=T) * P(X=T | C=T) * P(Y=T | C=T)) + (P(C=F) * P(X=T | C=F) * P (Y=T | C=F) $  \n",
    "$P(X=T,Y=T) = .5 * .75 * .25 + .5 * .5 * .5 = .21875 $\n",
    "\n",
    "Finally, plug in given values and calulation of P(X=T,Y=T) into the denominator:  \n",
    "$P(C=T|X=T,Y=T) = \\frac{.75*.25*.5}{.21875}$  \n",
    "$P(C=T|X=T,Y=T) = .429$"
   ]
  },
  {
   "cell_type": "markdown",
   "metadata": {},
   "source": [
    "### Part B\n",
    "\n",
    "For the first network it will be the *same* since C is indepedent from Z due to the fact Z is a child of X and Y. So in this network due to conditionally independent relationships you can simplify $P(C | X,Y,Z)$ to $P(C | X,Y)$\n",
    "\n",
    "In the second network you can no longer make this simplification since now Y is conditionlly dependent upon the new feature Z. Therefore, you will get a *different* answer."
   ]
  },
  {
   "cell_type": "markdown",
   "metadata": {},
   "source": [
    "# Question 5: Multiclass Classification (5 points)\n",
    "\n",
    "One way of using a binary classifier for addressing a multiclass classification problem is to use a One-vs.-All (or One-vs.-Rest) strategy.\n",
    "\n",
    "#### 1) Briefly describe the  One-vs.-All method.  (2pts)\n",
    "\n",
    "If you have 3 classes, you would make a new training set and fit a classifier where you compare one class as the positive class (1) and all of the other classes as the negative class (0). You do this for each class and when you want to make a new prediction, you would run the 3 classifiers and choose the class for which confidence is mazimized. \n",
    "\n",
    "#### 2) What are two disadvantages of using the One-vs.-All method in situations where the number of classes $N$ is very large? (3pts)\n",
    "\n",
    "It would be computationally expensive because you have to run all the classifiers each to you want to make a new prediction. Also, the One-vs.-All method is more sensitive to outliers than a multinomial model. Another thing that One-vs.-All is bad at dealing with, where one-vs-one method is better, is that it's not  good at discerning classes when there are pair specific features to consider or there are unbalanced number of instances per class."
   ]
  },
  {
   "cell_type": "code",
   "execution_count": null,
   "metadata": {
    "collapsed": true
   },
   "outputs": [],
   "source": []
  }
 ],
 "metadata": {
  "anaconda-cloud": {},
  "kernelspec": {
   "display_name": "Python [Root]",
   "language": "python",
   "name": "Python [Root]"
  },
  "language_info": {
   "codemirror_mode": {
    "name": "ipython",
    "version": 2
   },
   "file_extension": ".py",
   "mimetype": "text/x-python",
   "name": "python",
   "nbconvert_exporter": "python",
   "pygments_lexer": "ipython2",
   "version": "2.7.12"
  }
 },
 "nbformat": 4,
 "nbformat_minor": 0
}
